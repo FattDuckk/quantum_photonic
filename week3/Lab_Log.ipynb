{
 "cells": [
  {
   "cell_type": "code",
   "execution_count": null,
   "id": "5596e301",
   "metadata": {},
   "outputs": [],
   "source": [
    "# Lab Log Assessment: Brewster Angle\n"
   ]
  },
  {
   "cell_type": "markdown",
   "id": "d4d58a10",
   "metadata": {},
   "source": [
    "Aim:\n",
    "To investigate the relationship between "
   ]
  },
  {
   "cell_type": "code",
   "execution_count": null,
   "id": "a8c123b2",
   "metadata": {},
   "outputs": [],
   "source": [
    "# Brief Summery"
   ]
  },
  {
   "cell_type": "code",
   "execution_count": null,
   "id": "342b9d0e",
   "metadata": {},
   "outputs": [],
   "source": [
    "# A Diagram of the experiment with brief discussion of critical aspects of data collection"
   ]
  },
  {
   "cell_type": "code",
   "execution_count": null,
   "id": "baf07503",
   "metadata": {},
   "outputs": [],
   "source": [
    "# Equations for Brewster angle and Frensnel Curves with explaination of the concepts\n"
   ]
  },
  {
   "cell_type": "code",
   "execution_count": null,
   "id": "656296b4",
   "metadata": {},
   "outputs": [],
   "source": [
    "\n"
   ]
  },
  {
   "cell_type": "code",
   "execution_count": null,
   "id": "506d28c8",
   "metadata": {},
   "outputs": [],
   "source": []
  },
  {
   "cell_type": "code",
   "execution_count": null,
   "id": "de249caf",
   "metadata": {},
   "outputs": [],
   "source": []
  },
  {
   "cell_type": "code",
   "execution_count": null,
   "id": "ce2f07aa",
   "metadata": {},
   "outputs": [],
   "source": []
  }
 ],
 "metadata": {
  "kernelspec": {
   "display_name": "Python 3",
   "language": "python",
   "name": "python3"
  },
  "language_info": {
   "name": "python",
   "version": "3.10.12"
  }
 },
 "nbformat": 4,
 "nbformat_minor": 5
}
